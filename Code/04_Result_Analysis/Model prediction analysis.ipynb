{
 "cells": [
  {
   "cell_type": "markdown",
   "metadata": {},
   "source": [
    "# Model prediction analysis"
   ]
  },
  {
   "cell_type": "markdown",
   "metadata": {},
   "source": [
    "Before running this notebook, you *must* edit the code cell below to specify `output_model_name` for your model of interest. Batch scoring (and training) must already have been performed using this model, since this notebook will use the prediction results thus created."
   ]
  },
  {
   "cell_type": "code",
   "execution_count": 2,
   "metadata": {},
   "outputs": [],
   "source": [
    "from analysis_config_loader import ConfigFile\n",
    "import os\n",
    "%matplotlib inline\n",
    "import matplotlib.pyplot as plt\n",
    "from PIL import Image\n",
    "from collections import defaultdict\n",
    "from sklearn.metrics import confusion_matrix\n",
    "import pandas as pd\n",
    "import numpy as np\n",
    "\n",
    "output_model_name = '' # <-- fill in this value with your desired model's name!\n",
    "config_filename = '../settings.cfg'\n",
    "\n",
    "assert output_model_name != '', \\\n",
    "    'You must fill in the output_model_name field with the name of a model you trained ' + \\\n",
    "    'and applied to the operationalization dataset using batch_score_spark.py'\n",
    "assert os.path.exists(config_filename), \\\n",
    "    'Could not find configuration file'.format(config_filename)\n",
    "    \n",
    "config = ConfigFile(config_filename, output_model_name)"
   ]
  },
  {
   "cell_type": "markdown",
   "metadata": {},
   "source": [
    "## Test set analysis"
   ]
  },
  {
   "cell_type": "markdown",
   "metadata": {},
   "source": [
    "### Overall and class-specific model performance metrics"
   ]
  },
  {
   "cell_type": "code",
   "execution_count": 3,
   "metadata": {},
   "outputs": [
    {
     "name": "stdout",
     "output_type": "stream",
     "text": [
      "Overall accuracy: 0.773\n"
     ]
    }
   ],
   "source": [
    "n_correct_label = len(config.test_df.loc[config.test_df['label'] == config.test_df['pred_label']].index)\n",
    "n_total = len(config.test_df.index)\n",
    "\n",
    "print('Overall accuracy: {:.3f}'.format(n_correct_label / n_total))"
   ]
  },
  {
   "cell_type": "markdown",
   "metadata": {},
   "source": [
    "We can also calculate precision, recall, and accuracy for each label:"
   ]
  },
  {
   "cell_type": "code",
   "execution_count": 4,
   "metadata": {},
   "outputs": [
    {
     "name": "stdout",
     "output_type": "stream",
     "text": [
      "Metrics for Barren vs. not-Barren classification\n",
      "- Recall:    0.127\n",
      "- Precision: 0.935\n",
      "- Accuracy:  0.922\n",
      "Metrics for Cultivated vs. not-Cultivated classification\n",
      "- Recall:    0.161\n",
      "- Precision: 0.761\n",
      "- Accuracy:  0.945\n",
      "Metrics for Developed vs. not-Developed classification\n",
      "- Recall:    0.202\n",
      "- Precision: 0.955\n",
      "- Accuracy:  0.977\n",
      "Metrics for Forest vs. not-Forest classification\n",
      "- Recall:    0.192\n",
      "- Precision: 0.776\n",
      "- Accuracy:  0.943\n",
      "Metrics for Herbaceous vs. not-Herbaceous classification\n",
      "- Recall:    0.091\n",
      "- Precision: 0.721\n",
      "- Accuracy:  0.901\n",
      "Metrics for Shrub vs. not-Shrub classification\n",
      "- Recall:    0.164\n",
      "- Precision: 0.576\n",
      "- Accuracy:  0.859\n"
     ]
    }
   ],
   "source": [
    "labels = np.sort(config.test_df['label'].unique()).tolist()\n",
    "\n",
    "for label in labels:\n",
    "    print('Metrics for {0} vs. not-{0} classification'.format(label))\n",
    "    \n",
    "    n_true_pos = len(config.test_df.loc[(config.test_df['label'] == label) & \n",
    "                                        (config.test_df['pred_label'] == label)].index)\n",
    "    n_true_neg = len(config.test_df.loc[(config.test_df['label'] != label) & \n",
    "                                        (config.test_df['pred_label'] != label)].index)\n",
    "    n_false_pos = len(config.test_df.loc[(config.test_df['label'] != label) & \n",
    "                                        (config.test_df['pred_label'] == label)].index)\n",
    "    n_false_neg = len(config.test_df.loc[(config.test_df['label'] == label) & \n",
    "                                        (config.test_df['pred_label'] != label)].index)\n",
    "    n_predicted_pos = n_true_pos + n_false_pos\n",
    "    n_labeled_pos = n_true_neg + n_false_neg\n",
    "    n_correct = n_true_pos + n_true_neg\n",
    "    \n",
    "    if n_labeled_pos == 0:\n",
    "        print('- Recall:    Undefined (no images have this true label)')\n",
    "    else:\n",
    "        print('- Recall:    {:0.3f}'.format(n_true_pos / n_labeled_pos))\n",
    "    if n_predicted_pos == 0:\n",
    "        print('- Precision: Undefined (No images predicted to have this label)')\n",
    "    else:\n",
    "        print('- Precision: {:0.3f}'.format(n_true_pos / n_predicted_pos))\n",
    "    print('- Accuracy:  {:0.3f}'.format(n_correct / n_total))"
   ]
  },
  {
   "cell_type": "markdown",
   "metadata": {},
   "source": [
    "### Confusion matrix construction\n",
    "\n",
    "We now construct a confusion matrix to check which types of classification errors are most common:"
   ]
  },
  {
   "cell_type": "code",
   "execution_count": 5,
   "metadata": {},
   "outputs": [
    {
     "data": {
      "text/plain": [
       "<matplotlib.text.Text at 0x1c7c074a240>"
      ]
     },
     "execution_count": 5,
     "metadata": {},
     "output_type": "execute_result"
    },
    {
     "data": {
      "image/png": "[encoded data removed]",
      "text/plain": [
       "<matplotlib.figure.Figure at 0x1c7ba013a20>"
      ]
     },
     "metadata": {},
     "output_type": "display_data"
    }
   ],
   "source": [
    "cm = confusion_matrix(config.test_df['label'], config.test_df['pred_label'], labels=labels)\n",
    "\n",
    "plt.figure(figsize=(10,10))\n",
    "plt.imshow(cm, interpolation='nearest', cmap=plt.cm.Blues)\n",
    "plt.colorbar()\n",
    "tick_marks = np.arange(len(labels))\n",
    "plt.xticks(tick_marks, labels, rotation=90)\n",
    "plt.yticks(tick_marks, labels)\n",
    "plt.xlabel('Predicted Label')\n",
    "plt.ylabel('True Label')\n",
    "plt.title('Confusion Matrix')"
   ]
  },
  {
   "cell_type": "markdown",
   "metadata": {},
   "source": [
    "Off-diagonal elements of this matrix constitute errors. If you trained with the full dataset (the default setting of `sample_frac=1.0`), you should see that most elements fall along the diagonal, and off-diagonal elements are near-zero."
   ]
  },
  {
   "cell_type": "markdown",
   "metadata": {},
   "source": [
    "## Operationalization image set analysis\n",
    "\n",
    "The true labels for the Middlesex County, MA images are unknown (and in many cases would be undefined, since an image may include land of multiple types), so we will not test their accuracy. However, we will use them to draw a predicted land use map of Middlesex County, MA:\n",
    "\n",
    "During data loading, we merged the operationalization prediction dataframe with information on each tile's latitude and longitude boundaries:"
   ]
  },
  {
   "cell_type": "code",
   "execution_count": 6,
   "metadata": {},
   "outputs": [
    {
     "data": {
      "text/html": [
       "<div>\n",
       "<table border=\"1\" class=\"dataframe\">\n",
       "  <thead>\n",
       "    <tr style=\"text-align: right;\">\n",
       "      <th></th>\n",
       "      <th>name</th>\n",
       "      <th>pred_label</th>\n",
       "      <th>llcrnrlat</th>\n",
       "      <th>llcrnrlon</th>\n",
       "      <th>urcrnrlat</th>\n",
       "      <th>urcrnrlon</th>\n",
       "    </tr>\n",
       "  </thead>\n",
       "  <tbody>\n",
       "    <tr>\n",
       "      <th>0</th>\n",
       "      <td>ortho_1-1_hn_s_ma017_2016_1_100240.png</td>\n",
       "      <td>Forest</td>\n",
       "      <td>42.679883</td>\n",
       "      <td>-71.791586</td>\n",
       "      <td>42.681898</td>\n",
       "      <td>-71.788856</td>\n",
       "    </tr>\n",
       "    <tr>\n",
       "      <th>1</th>\n",
       "      <td>ortho_1-1_hn_s_ma017_2016_1_100640.png</td>\n",
       "      <td>Forest</td>\n",
       "      <td>42.681898</td>\n",
       "      <td>-71.666017</td>\n",
       "      <td>42.683912</td>\n",
       "      <td>-71.663287</td>\n",
       "    </tr>\n",
       "    <tr>\n",
       "      <th>2</th>\n",
       "      <td>ortho_1-1_hn_s_ma017_2016_1_101026.png</td>\n",
       "      <td>Forest</td>\n",
       "      <td>42.683912</td>\n",
       "      <td>-71.578665</td>\n",
       "      <td>42.685927</td>\n",
       "      <td>-71.575935</td>\n",
       "    </tr>\n",
       "    <tr>\n",
       "      <th>3</th>\n",
       "      <td>ortho_1-1_hn_s_ma017_2016_1_101498.png</td>\n",
       "      <td>Forest</td>\n",
       "      <td>42.685927</td>\n",
       "      <td>-71.256552</td>\n",
       "      <td>42.687941</td>\n",
       "      <td>-71.253823</td>\n",
       "    </tr>\n",
       "    <tr>\n",
       "      <th>4</th>\n",
       "      <td>ortho_1-1_hn_s_ma017_2016_1_101864.png</td>\n",
       "      <td>Forest</td>\n",
       "      <td>42.687941</td>\n",
       "      <td>-71.223795</td>\n",
       "      <td>42.689956</td>\n",
       "      <td>-71.221065</td>\n",
       "    </tr>\n",
       "  </tbody>\n",
       "</table>\n",
       "</div>"
      ],
      "text/plain": [
       "                                     name pred_label  llcrnrlat  llcrnrlon  \\\n",
       "0  ortho_1-1_hn_s_ma017_2016_1_100240.png     Forest  42.679883 -71.791586   \n",
       "1  ortho_1-1_hn_s_ma017_2016_1_100640.png     Forest  42.681898 -71.666017   \n",
       "2  ortho_1-1_hn_s_ma017_2016_1_101026.png     Forest  42.683912 -71.578665   \n",
       "3  ortho_1-1_hn_s_ma017_2016_1_101498.png     Forest  42.685927 -71.256552   \n",
       "4  ortho_1-1_hn_s_ma017_2016_1_101864.png     Forest  42.687941 -71.223795   \n",
       "\n",
       "   urcrnrlat  urcrnrlon  \n",
       "0  42.681898 -71.788856  \n",
       "1  42.683912 -71.663287  \n",
       "2  42.685927 -71.575935  \n",
       "3  42.687941 -71.253823  \n",
       "4  42.689956 -71.221065  "
      ]
     },
     "execution_count": 6,
     "metadata": {},
     "output_type": "execute_result"
    }
   ],
   "source": [
    "config.o16n_df.head()"
   ]
  },
  {
   "cell_type": "markdown",
   "metadata": {},
   "source": [
    "In our county map, each image will be represented by a single pixel. The color of that pixel will be determined by the image's predicted label. We convert the latitude and longitude of each image's lower-righthand corner into an x and y index for a single pixel in the final image:"
   ]
  },
  {
   "cell_type": "code",
   "execution_count": 7,
   "metadata": {
    "collapsed": true
   },
   "outputs": [],
   "source": [
    "lat_values = np.sort(config.o16n_df['llcrnrlat'].unique()).tolist()\n",
    "max_lat_idx = len(lat_values) - 1\n",
    "lon_values = np.sort(config.o16n_df['llcrnrlon'].unique()).tolist()\n",
    "config.o16n_df['x_idx'] = config.o16n_df['llcrnrlon'].apply(lambda x: lon_values.index(x))\n",
    "config.o16n_df['y_idx'] = config.o16n_df['llcrnrlat'].apply(lambda x: lat_values.index(x))"
   ]
  },
  {
   "cell_type": "markdown",
   "metadata": {},
   "source": [
    "Then we fill in the appropriate color for each pixel in an otherwise-black array, and display the result. (Note that the image's y-orientation will be inverted by the `pillow` package, so we fill in the rows from bottom to top.)"
   ]
  },
  {
   "cell_type": "code",
   "execution_count": 8,
   "metadata": {},
   "outputs": [
    {
     "data": {
      "image/png": "[encoded data removed]",
      "text/plain": [
       "<PIL.Image.Image image mode=RGB size=347x313 at 0x1C7C5A7CE10>"
      ]
     },
     "execution_count": 8,
     "metadata": {},
     "output_type": "execute_result"
    }
   ],
   "source": [
    "label_to_color_dict = {'Barren': np.array([0, 255, 0]),\n",
    "                       'Cultivated': np.array([255, 255, 255]),\n",
    "                       'Developed': np.array([255, 0, 0]),\n",
    "                       'Forest': np.array([0, 255, 0]),\n",
    "                       'Herbaceous': np.array([0, 255, 0]),\n",
    "                       'Shrub': np.array([0, 255, 0])}\n",
    "\n",
    "county_image = np.zeros((len(lat_values), len(lon_values), 3))\n",
    "for row in config.o16n_df.itertuples():\n",
    "    county_image[max_lat_idx - row.y_idx, row.x_idx, :] = label_to_color_dict[row.pred_label]\n",
    "Image.fromarray(np.uint8(county_image))"
   ]
  }
 ],
 "metadata": {
  "kernelspec": {
   "display_name": "Python 3",
   "language": "python",
   "name": "python3"
  },
  "language_info": {
   "codemirror_mode": {
    "name": "ipython",
    "version": 3
   },
   "file_extension": ".py",
   "mimetype": "text/x-python",
   "name": "python",
   "nbconvert_exporter": "python",
   "pygments_lexer": "ipython3",
   "version": "3.5.2"
  }
 },
 "nbformat": 4,
 "nbformat_minor": 2
}
